{
  "nbformat": 4,
  "nbformat_minor": 0,
  "metadata": {
    "colab": {
      "name": "Copy of TASK 10.ipynb",
      "provenance": [],
      "include_colab_link": true
    },
    "kernelspec": {
      "name": "python3",
      "display_name": "Python 3"
    },
    "language_info": {
      "name": "python"
    }
  },
  "cells": [
    {
      "cell_type": "markdown",
      "metadata": {
        "id": "view-in-github",
        "colab_type": "text"
      },
      "source": [
        "<a href=\"https://colab.research.google.com/github/AHakeemk/python-basic-programs/blob/main/TASK_10.ipynb\" target=\"_parent\"><img src=\"https://colab.research.google.com/assets/colab-badge.svg\" alt=\"Open In Colab\"/></a>"
      ]
    },
    {
      "cell_type": "markdown",
      "metadata": {
        "id": "VHKxwUewxOi2"
      },
      "source": [
        "1. Generate two  3 x 3 matrix and find it's dot product and take the transpose of the answer."
      ]
    },
    {
      "cell_type": "code",
      "metadata": {
        "id": "RdyKd1CAxZtR",
        "colab": {
          "base_uri": "https://localhost:8080/"
        },
        "outputId": "a9767bfe-ae37-4c05-a657-2774791f13a0"
      },
      "source": [
        "from numpy import random\n",
        "m1=random.randint(10, size=(3,3))\n",
        "m2=random.randint(10, size=(3,3))\n",
        "p=m1.dot(m2)\n",
        "print(\"dot product: \",p)\n",
        "print(\"transpose: \",p.transpose())"
      ],
      "execution_count": null,
      "outputs": [
        {
          "output_type": "stream",
          "text": [
            "dot product:  [[ 25  21  36]\n",
            " [ 62  33 117]\n",
            " [ 41  27  54]]\n",
            "transpose:  [[ 25  62  41]\n",
            " [ 21  33  27]\n",
            " [ 36 117  54]]\n"
          ],
          "name": "stdout"
        }
      ]
    },
    {
      "cell_type": "markdown",
      "metadata": {
        "id": "9c9ZwiBxxf4t"
      },
      "source": [
        "2. Create a 3x3 matrix with elements [55,25,15], [30,44,2], [11,45,77] . Now find the determinant of the given matrix."
      ]
    },
    {
      "cell_type": "code",
      "metadata": {
        "id": "Anmr3C9KyNyy",
        "colab": {
          "base_uri": "https://localhost:8080/"
        },
        "outputId": "dcc5496e-fecb-418e-fd10-366946f1db9a"
      },
      "source": [
        "import numpy as np \n",
        "arr=np.array([[55,25,15], [30,44,2], [11,45,77]])\n",
        "d=np.linalg.det(arr)\n",
        "print(\"determinant: \",d)"
      ],
      "execution_count": null,
      "outputs": [
        {
          "output_type": "stream",
          "text": [
            "determinant:  137180.0000000001\n"
          ],
          "name": "stdout"
        }
      ]
    }
  ]
}