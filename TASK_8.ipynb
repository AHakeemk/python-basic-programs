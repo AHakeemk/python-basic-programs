{
  "nbformat": 4,
  "nbformat_minor": 0,
  "metadata": {
    "colab": {
      "name": "TASK 8.ipynb",
      "provenance": [],
      "include_colab_link": true
    },
    "kernelspec": {
      "name": "python3",
      "display_name": "Python 3"
    },
    "language_info": {
      "name": "python"
    }
  },
  "cells": [
    {
      "cell_type": "markdown",
      "metadata": {
        "id": "view-in-github",
        "colab_type": "text"
      },
      "source": [
        "<a href=\"https://colab.research.google.com/github/AHakeemk/python-basic-programs/blob/main/TASK_8.ipynb\" target=\"_parent\"><img src=\"https://colab.research.google.com/assets/colab-badge.svg\" alt=\"Open In Colab\"/></a>"
      ]
    },
    {
      "cell_type": "markdown",
      "metadata": {
        "id": "slsGswYbJSo7"
      },
      "source": [
        "1. Generate a 3 x 3 matrix using random module."
      ]
    },
    {
      "cell_type": "code",
      "metadata": {
        "id": "GGRQSYyNJW9t",
        "colab": {
          "base_uri": "https://localhost:8080/"
        },
        "outputId": "6667052e-a8f1-40fe-8c75-61f49465ad3a"
      },
      "source": [
        "import numpy as np\n",
        "print(np.random.rand(3,3))"
      ],
      "execution_count": 1,
      "outputs": [
        {
          "output_type": "stream",
          "text": [
            "[[0.12265166 0.44874945 0.04781238]\n",
            " [0.25151914 0.09024437 0.83466992]\n",
            " [0.34230753 0.26020872 0.23154146]]\n"
          ],
          "name": "stdout"
        }
      ]
    },
    {
      "cell_type": "markdown",
      "metadata": {
        "id": "4OB9KFX6JfYA"
      },
      "source": [
        "2. Generate two 4 x 4 matrix using numpy and \n",
        "\n",
        " a) Reshape it to 2 x 8matrix and vertically stack it.\n",
        "\n",
        " b) Reshape it to 2 x 8 matrix and horizontally stack it."
      ]
    },
    {
      "cell_type": "code",
      "metadata": {
        "id": "VoIqYeNWJ4H_",
        "colab": {
          "base_uri": "https://localhost:8080/"
        },
        "outputId": "37731599-2719-4758-d235-f1929c70ea3e"
      },
      "source": [
        "import numpy as np\n",
        "import random\n",
        "m=[random.randrange(1,50,5)for i in range(16)]\n",
        "arr=np.array(m)\n",
        "narr=arr.reshape(4,4)\n",
        " \n",
        "rarr=arr.reshape(2,8)\n",
        " \n",
        "hm=np.hstack(rarr)\n",
        " \n",
        "vm=np.vstack(rarr)\n",
        " \n",
        "print(\"4×4 matrix:\",narr)\n",
        "print(\"2×8 matrix:\",rarr)\n",
        "print(\"2×8 horizontal stack:\",hm)\n",
        "print(\"vertical stack:\",vm)"
      ],
      "execution_count": 11,
      "outputs": [
        {
          "output_type": "stream",
          "text": [
            "4×4 matrix: [[46 31  6 46]\n",
            " [36 31 41 16]\n",
            " [ 6 26 46 41]\n",
            " [26 21 36 16]]\n",
            "2×8 matrix: [[46 31  6 46 36 31 41 16]\n",
            " [ 6 26 46 41 26 21 36 16]]\n",
            "2×8 horizontal stack: [46 31  6 46 36 31 41 16  6 26 46 41 26 21 36 16]\n",
            "vertical stack: [[46 31  6 46 36 31 41 16]\n",
            " [ 6 26 46 41 26 21 36 16]]\n"
          ],
          "name": "stdout"
        }
      ]
    }
  ]
}