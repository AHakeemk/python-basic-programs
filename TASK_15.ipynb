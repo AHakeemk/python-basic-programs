{
  "nbformat": 4,
  "nbformat_minor": 0,
  "metadata": {
    "colab": {
      "name": "Copy of TASK 15.ipynb",
      "provenance": [],
      "include_colab_link": true
    },
    "kernelspec": {
      "name": "python3",
      "display_name": "Python 3"
    },
    "language_info": {
      "name": "python"
    }
  },
  "cells": [
    {
      "cell_type": "markdown",
      "metadata": {
        "id": "view-in-github",
        "colab_type": "text"
      },
      "source": [
        "<a href=\"https://colab.research.google.com/github/AHakeemk/python-basic-programs/blob/main/TASK_15.ipynb\" target=\"_parent\"><img src=\"https://colab.research.google.com/assets/colab-badge.svg\" alt=\"Open In Colab\"/></a>"
      ]
    },
    {
      "cell_type": "markdown",
      "metadata": {
        "id": "mmfmNpvywy0n"
      },
      "source": [
        "1. For the given ndarray b below, evaluate whether elements in array, b are equal to 'red'.Assign the result to b_bool and print the resultant boolean array.\n",
        "b = np.array([\"blue\", \"blue\", \"red\", \"blue\"])"
      ]
    },
    {
      "cell_type": "code",
      "metadata": {
        "id": "KyVrfhasw7SW",
        "colab": {
          "base_uri": "https://localhost:8080/"
        },
        "outputId": "67df265a-4c38-4f0b-e5ed-da4bdecaf974"
      },
      "source": [
        "import numpy as np\n",
        "\n",
        "b=np.array([\"blue\", \"blue\", \"red\", \"blue\"])\n",
        "b_bool=b==\"red\"\n",
        "print(b_bool)"
      ],
      "execution_count": null,
      "outputs": [
        {
          "output_type": "stream",
          "text": [
            "[False False  True False]\n"
          ],
          "name": "stdout"
        }
      ]
    },
    {
      "cell_type": "markdown",
      "metadata": {
        "id": "1IEqtJSDzx3p"
      },
      "source": [
        "2. Create two arrays on containing elements from 0-5 and another containing elements from 6-10. Then append this array."
      ]
    },
    {
      "cell_type": "code",
      "metadata": {
        "id": "7PXETiqF0Jeo",
        "colab": {
          "base_uri": "https://localhost:8080/"
        },
        "outputId": "9e9da3a2-67c3-4621-d138-9471b852d631"
      },
      "source": [
        " import numpy as np\n",
        " \n",
        "ar=np.array(np.arange(6))\n",
        "ar1=np.array(np.arange(11))\n",
        "ar2=np.append(ar,ar1)\n",
        "print(ar2)"
      ],
      "execution_count": null,
      "outputs": [
        {
          "output_type": "stream",
          "text": [
            "[ 0  1  2  3  4  5  0  1  2  3  4  5  6  7  8  9 10]\n"
          ],
          "name": "stdout"
        }
      ]
    },
    {
      "cell_type": "markdown",
      "metadata": {
        "id": "6JqR9EeB0P6K"
      },
      "source": [
        "3. Create a 2x4 array containing values from 0-7 and another 2x4 containing values from 8-15. Now append this with,\n",
        "\n",
        "  a) axis as 0\n",
        "\n",
        "  b) axis as 1"
      ]
    },
    {
      "cell_type": "code",
      "metadata": {
        "id": "AVhGyXzr1Pd8",
        "colab": {
          "base_uri": "https://localhost:8080/"
        },
        "outputId": "16c67899-70af-438f-b34c-2bd385ab04f8"
      },
      "source": [
        "import numpy as np\n",
        " \n",
        "ar=np.arange(0,8).reshape(2,4)\n",
        "ar1=np.arange(8,16).reshape(2,4)\n",
        " \n",
        "axis0=np.append(ar,ar1,axis=0)\n",
        "print(\"axis0:\",axis0)\n",
        " \n",
        "axis1=np.append(ar,ar1,axis=1)\n",
        "print(\"axis1:\",axis1)"
      ],
      "execution_count": null,
      "outputs": [
        {
          "output_type": "stream",
          "text": [
            "axis0: [[ 0  1  2  3]\n",
            " [ 4  5  6  7]\n",
            " [ 8  9 10 11]\n",
            " [12 13 14 15]]\n",
            "axis1: [[ 0  1  2  3  8  9 10 11]\n",
            " [ 4  5  6  7 12 13 14 15]]\n"
          ],
          "name": "stdout"
        }
      ]
    }
  ]
}