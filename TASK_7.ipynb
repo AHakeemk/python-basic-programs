{
  "nbformat": 4,
  "nbformat_minor": 0,
  "metadata": {
    "colab": {
      "name": "Copy of TASK  7.ipynb",
      "provenance": [],
      "include_colab_link": true
    },
    "kernelspec": {
      "name": "python3",
      "display_name": "Python 3"
    },
    "language_info": {
      "name": "python"
    }
  },
  "cells": [
    {
      "cell_type": "markdown",
      "metadata": {
        "id": "view-in-github",
        "colab_type": "text"
      },
      "source": [
        "<a href=\"https://colab.research.google.com/github/AHakeemk/python-basic-programs/blob/main/TASK_7.ipynb\" target=\"_parent\"><img src=\"https://colab.research.google.com/assets/colab-badge.svg\" alt=\"Open In Colab\"/></a>"
      ]
    },
    {
      "cell_type": "markdown",
      "metadata": {
        "id": "b0V3vwzcydKy"
      },
      "source": [
        "1. Write a program to check whether a  string is palindrome or not using functions. \n",
        "\n",
        "   ( A function is to be created to check whether the string is palindrome and it should give the output true or false to the main program)"
      ]
    },
    {
      "cell_type": "code",
      "metadata": {
        "id": "M2Mi7EOdyxiu",
        "colab": {
          "base_uri": "https://localhost:8080/"
        },
        "outputId": "ecf539d1-a8a5-4ea9-ba1e-db9cab973b6c"
      },
      "source": [
        " \n",
        "st=input(\"Enter a string: \")\n",
        "r=st[::-1]\n",
        " \n",
        "def palindrome ():\n",
        "    if st==r:\n",
        "        print(st,\" is palindrome \")\n",
        "    else:\n",
        "        print (st,\" is not palindrome \")\n",
        "palindrome ()"
      ],
      "execution_count": null,
      "outputs": [
        {
          "output_type": "stream",
          "text": [
            "Enter a string: malayalam\n",
            "malayalam  is palindrome \n"
          ],
          "name": "stdout"
        }
      ]
    },
    {
      "cell_type": "markdown",
      "metadata": {
        "id": "vSiShTyOzEz-"
      },
      "source": [
        "2.  Write a menu driven program to find largest element in L, smallest element, avg of all values, sum of all values in L. All these operation should be performed in different functions and the result should be returned.\n",
        "\n",
        "\n",
        "      L=[23,24,11,90,1,41,9,99,28,56,72]"
      ]
    },
    {
      "cell_type": "code",
      "metadata": {
        "id": "fRtMIw_CzsmO",
        "colab": {
          "base_uri": "https://localhost:8080/"
        },
        "outputId": "9cb57f87-0a6f-4d60-85cb-8b0f88e4fd5a"
      },
      "source": [
        " \n",
        "l=[23,24,11,90,1,41,9,99,28,56,72]\n",
        "l.sort()\n",
        " \n",
        " \n",
        "def largest():\n",
        "    print(\"largest\",l[-1])\n",
        "    \n",
        "def smallest():\n",
        "   print(\"smallest\",l[0])\n",
        "   \n",
        "def sumn():\n",
        "    s=0\n",
        "    for i in l:\n",
        "        s=s+i\n",
        "    print(\"sum\",s)\n",
        " \n",
        "def avg():\n",
        "    s=0\n",
        "    for i in l:\n",
        "        s=s+i\n",
        "    avg=s/len(l)\n",
        "    print(\"average\",avg)\n",
        "   \n",
        "   \n",
        "n=int(input(\"1.largest number\\n2.smallest number\\n3.sum of numbers\\n4.average of numbers\\n5.view all\\n\"))\n",
        " \n",
        "if n==1:\n",
        "    largest()\n",
        "elif n==2:\n",
        "    smallest()\n",
        "elif n==3:\n",
        "    sumn()\n",
        "elif n==4:\n",
        "    avg()\n",
        "elif n==5:\n",
        "    largest()\n",
        "    smallest()\n",
        "    sumn()\n",
        "    avg()\n",
        "else:\n",
        "    print(\"not valid\")"
      ],
      "execution_count": null,
      "outputs": [
        {
          "output_type": "stream",
          "text": [
            "1.largest number\n",
            "2.smallest number\n",
            "3.sum of numbers\n",
            "4.average of numbers\n",
            "5.view all\n",
            "5\n",
            "largest 99\n",
            "smallest 1\n",
            "sum 454\n",
            "average 41.27272727272727\n"
          ],
          "name": "stdout"
        }
      ]
    }
  ]
}