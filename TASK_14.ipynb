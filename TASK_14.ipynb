{
  "nbformat": 4,
  "nbformat_minor": 0,
  "metadata": {
    "colab": {
      "name": "Copy of TASK 14.ipynb",
      "provenance": [],
      "include_colab_link": true
    },
    "kernelspec": {
      "name": "python3",
      "display_name": "Python 3"
    },
    "language_info": {
      "name": "python"
    }
  },
  "cells": [
    {
      "cell_type": "markdown",
      "metadata": {
        "id": "view-in-github",
        "colab_type": "text"
      },
      "source": [
        "<a href=\"https://colab.research.google.com/github/AHakeemk/python-basic-programs/blob/main/TASK_14.ipynb\" target=\"_parent\"><img src=\"https://colab.research.google.com/assets/colab-badge.svg\" alt=\"Open In Colab\"/></a>"
      ]
    },
    {
      "cell_type": "markdown",
      "metadata": {
        "id": "pDx7KyZoXYNb"
      },
      "source": [
        "1. Create two arrays, one containing elements [1,2], [3,4] and another containing elements [8,18] Now find the solution for this linear equation."
      ]
    },
    {
      "cell_type": "code",
      "metadata": {
        "id": "1HQu2yB2YMbj",
        "colab": {
          "base_uri": "https://localhost:8080/"
        },
        "outputId": "a2f01a25-b1fc-4210-b8af-5da16d97264c"
      },
      "source": [
        "import numpy as np\n",
        "m1=[[1,2], [3,4]]\n",
        "m2=[8,18]\n",
        "print(np.linalg.solve(m1,m2))"
      ],
      "execution_count": null,
      "outputs": [
        {
          "output_type": "stream",
          "text": [
            "[2. 3.]\n"
          ],
          "name": "stdout"
        }
      ]
    },
    {
      "cell_type": "markdown",
      "metadata": {
        "id": "RyDr51p8ZxQp"
      },
      "source": [
        "2. Create an array containing elements [2, 3, 4]. Now find the sin,cos,tan values of this array elements."
      ]
    },
    {
      "cell_type": "code",
      "metadata": {
        "id": "iXZByHNOaXbk",
        "colab": {
          "base_uri": "https://localhost:8080/"
        },
        "outputId": "b31aebdf-7f5d-46e3-f3c0-ac3026419568"
      },
      "source": [
        "import numpy as np\n",
        "m=[2, 3, 4]\n",
        "print(\"sin:\",np.sin(m))\n",
        "print(\"cos:\",np.cos(m))\n",
        "print(\"tan:\",np.tan(m))"
      ],
      "execution_count": null,
      "outputs": [
        {
          "output_type": "stream",
          "text": [
            "sin: [ 0.90929743  0.14112001 -0.7568025 ]\n",
            "cos: [-0.41614684 -0.9899925  -0.65364362]\n",
            "tan: [-2.18503986 -0.14254654  1.15782128]\n"
          ],
          "name": "stdout"
        }
      ]
    },
    {
      "cell_type": "markdown",
      "metadata": {
        "id": "Itk2DMc6b60J"
      },
      "source": [
        "3. Given b=[5,6], then find,\n",
        "\n",
        "  a) 2sinb\n",
        "  b) 2cos3b\n",
        "  c) 4tan2b"
      ]
    },
    {
      "cell_type": "code",
      "metadata": {
        "id": "lgxpIaKebw5y",
        "colab": {
          "base_uri": "https://localhost:8080/"
        },
        "outputId": "54b33feb-58c1-41f0-d1ce-07346074fff4"
      },
      "source": [
        "import numpy as np\n",
        "import math\n",
        "b=[5, 6]\n",
        "b1=3*b\n",
        "b2=2*b\n",
        "s=np.sin(b)\n",
        "c=np.cos(b1)\n",
        "t=np.tan(b2)\n",
        "print(\"2sinb= \",2*s)\n",
        "print(\"2cos3b= \",2*c)\n",
        "print(\"4tan2b= \",4*t)"
      ],
      "execution_count": null,
      "outputs": [
        {
          "output_type": "stream",
          "text": [
            "2sinb=  [-1.91784855 -0.558831  ]\n",
            "2cos3b=  [0.56732437 1.92034057 0.56732437 1.92034057 0.56732437 1.92034057]\n",
            "4tan2b=  [-13.52206002  -1.16402477 -13.52206002  -1.16402477]\n"
          ],
          "name": "stdout"
        }
      ]
    }
  ]
}