{
  "nbformat": 4,
  "nbformat_minor": 0,
  "metadata": {
    "colab": {
      "name": "Copy of TASK 13.ipynb",
      "provenance": [],
      "collapsed_sections": [],
      "include_colab_link": true
    },
    "kernelspec": {
      "name": "python3",
      "display_name": "Python 3"
    },
    "language_info": {
      "name": "python"
    }
  },
  "cells": [
    {
      "cell_type": "markdown",
      "metadata": {
        "id": "view-in-github",
        "colab_type": "text"
      },
      "source": [
        "<a href=\"https://colab.research.google.com/github/AHakeemk/python-basic-programs/blob/main/TASK_13.ipynb\" target=\"_parent\"><img src=\"https://colab.research.google.com/assets/colab-badge.svg\" alt=\"Open In Colab\"/></a>"
      ]
    },
    {
      "cell_type": "markdown",
      "metadata": {
        "id": "RUSoRkrOqNwf"
      },
      "source": [
        "1. Create a 3x3 array values ranging from 0-8.Find the sum of the elements in this array."
      ]
    },
    {
      "cell_type": "code",
      "metadata": {
        "id": "t01ATYQpqq8u",
        "colab": {
          "base_uri": "https://localhost:8080/"
        },
        "outputId": "30147f78-db11-45d6-ad24-8449c958d3f4"
      },
      "source": [
        "import numpy as np \n",
        "m=np.arange(9).reshape(3,3)\n",
        "print(np.sum(m))"
      ],
      "execution_count": null,
      "outputs": [
        {
          "output_type": "stream",
          "text": [
            "36\n"
          ],
          "name": "stdout"
        }
      ]
    },
    {
      "cell_type": "markdown",
      "metadata": {
        "id": "k3Y7nQF7r3IW"
      },
      "source": [
        "2. Create a 3x3 array values ranging from 0-8.Find the row sum and column sum of this array."
      ]
    },
    {
      "cell_type": "code",
      "metadata": {
        "id": "BzvIlWfvsICv",
        "colab": {
          "base_uri": "https://localhost:8080/"
        },
        "outputId": "b09ee1d5-548c-41f5-8d00-8a3450f50ee8"
      },
      "source": [
        " import numpy as np \n",
        "m=np.arange(9).reshape(3,3)\n",
        "print(\"column sum: \",np.sum(m,axis=0))\n",
        "print(\"row sum: \",np.sum(m,axis=1))"
      ],
      "execution_count": null,
      "outputs": [
        {
          "output_type": "stream",
          "text": [
            "column sum:  [ 9 12 15]\n",
            "row sum:  [ 3 12 21]\n"
          ],
          "name": "stdout"
        }
      ]
    },
    {
      "cell_type": "markdown",
      "metadata": {
        "id": "KOPMsbnrsgue"
      },
      "source": [
        "3. Create a 4x4 array values ranging from 0-15. Now,\n",
        "\n",
        "    a) Find the mininmum value in the array.\n",
        "    \n",
        "    b) Find the maximum value in the array.\n",
        "\n",
        "    c) Find the mean of the values in the array."
      ]
    },
    {
      "cell_type": "code",
      "metadata": {
        "id": "1UzITxp3WDaW",
        "colab": {
          "base_uri": "https://localhost:8080/"
        },
        "outputId": "05d7f952-50c5-49bf-bcb1-d79021848cac"
      },
      "source": [
        " import numpy as np \n",
        "m=np.arange(16).reshape(4,4)\n",
        "print(\"min: \",np.min(m))\n",
        "print(\"max: \",np.max(m))\n",
        "print(\"mean: \",np.mean(m))"
      ],
      "execution_count": null,
      "outputs": [
        {
          "output_type": "stream",
          "text": [
            "min:  0\n",
            "max:  15\n",
            "mean:  7.5\n"
          ],
          "name": "stdout"
        }
      ]
    },
    {
      "cell_type": "markdown",
      "metadata": {
        "id": "Pah9qGButoz2"
      },
      "source": [
        "4. Create an 10x10 array values ranging from 0-99.And ,\n",
        "\n",
        "    a) Print the 7th row.\n",
        "    \n",
        "    b) Print the rows from 4-8.\n",
        "\n",
        "    c) Print the value at the index 5,5.\n",
        "\n",
        "    d) Print the 5th colomn.\n",
        "\n",
        "    e) Print the columns from 2-5."
      ]
    },
    {
      "cell_type": "code",
      "metadata": {
        "id": "JFXPq0GkvhKi",
        "colab": {
          "base_uri": "https://localhost:8080/"
        },
        "outputId": "4772ea8d-a340-4de9-db38-ab623699d287"
      },
      "source": [
        " import numpy as np \n",
        "m=np.arange(100).reshape(10,10)\n",
        "print(\"7th row:\",m[6])\n",
        "print(\"4-8 rows:\",m[3:7])\n",
        "print(\"5,5:\",m[5,5])\n",
        "print(\"5th column:\",m[:,4])\n",
        "print(\"2-5 columms:\",m[:,1:4])"
      ],
      "execution_count": null,
      "outputs": [
        {
          "output_type": "stream",
          "text": [
            "7th row: [60 61 62 63 64 65 66 67 68 69]\n",
            "4-8 rows: [[30 31 32 33 34 35 36 37 38 39]\n",
            " [40 41 42 43 44 45 46 47 48 49]\n",
            " [50 51 52 53 54 55 56 57 58 59]\n",
            " [60 61 62 63 64 65 66 67 68 69]]\n",
            "5,5: 55\n",
            "5th column: [ 4 14 24 34 44 54 64 74 84 94]\n",
            "2-5 columms: [[ 1  2  3]\n",
            " [11 12 13]\n",
            " [21 22 23]\n",
            " [31 32 33]\n",
            " [41 42 43]\n",
            " [51 52 53]\n",
            " [61 62 63]\n",
            " [71 72 73]\n",
            " [81 82 83]\n",
            " [91 92 93]]\n"
          ],
          "name": "stdout"
        }
      ]
    }
  ]
}