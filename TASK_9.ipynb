{
  "nbformat": 4,
  "nbformat_minor": 0,
  "metadata": {
    "colab": {
      "name": "Copy of TASK 9.ipynb",
      "provenance": [],
      "include_colab_link": true
    },
    "kernelspec": {
      "name": "python3",
      "display_name": "Python 3"
    },
    "language_info": {
      "name": "python"
    }
  },
  "cells": [
    {
      "cell_type": "markdown",
      "metadata": {
        "id": "view-in-github",
        "colab_type": "text"
      },
      "source": [
        "<a href=\"https://colab.research.google.com/github/AHakeemk/python-basic-programs/blob/main/TASK_9.ipynb\" target=\"_parent\"><img src=\"https://colab.research.google.com/assets/colab-badge.svg\" alt=\"Open In Colab\"/></a>"
      ]
    },
    {
      "cell_type": "markdown",
      "metadata": {
        "id": "CBOQ3rFElEb0"
      },
      "source": [
        "1. Create an 4x4 array containing the values ranging from 0 - 15 (use arange function). Then ,\n",
        "  \n",
        "  a) split it equally along horizontal.\n",
        "\n",
        "  b) split it as 4 parts vertically.\n",
        "\n"
      ]
    },
    {
      "cell_type": "code",
      "metadata": {
        "id": "pKy4fjS_m3XD",
        "colab": {
          "base_uri": "https://localhost:8080/"
        },
        "outputId": "2ddff253-46ea-4f6c-9c2d-7fd4db43ca7f"
      },
      "source": [
        "import numpy as np\n",
        "arr=np.arange(16).reshape(4,4)\n",
        "print (arr)\n",
        "narr1=np.array_split(arr,1)\n",
        "print(narr1)\n",
        "narr2=np.array_split(arr,4)\n",
        "print (narr2)"
      ],
      "execution_count": null,
      "outputs": [
        {
          "output_type": "stream",
          "text": [
            "[[ 0  1  2  3]\n",
            " [ 4  5  6  7]\n",
            " [ 8  9 10 11]\n",
            " [12 13 14 15]]\n",
            "[array([[ 0,  1,  2,  3],\n",
            "       [ 4,  5,  6,  7],\n",
            "       [ 8,  9, 10, 11],\n",
            "       [12, 13, 14, 15]])]\n",
            "[array([[0, 1, 2, 3]]), array([[4, 5, 6, 7]]), array([[ 8,  9, 10, 11]]), array([[12, 13, 14, 15]])]\n"
          ],
          "name": "stdout"
        }
      ]
    },
    {
      "cell_type": "markdown",
      "metadata": {
        "id": "ORtqWRAeoMvn"
      },
      "source": [
        "2. Create a 3x3 matrix using random module and then,\n",
        "\n",
        "  a) Find the ceil of the matrix.\n",
        "  \n",
        "  b) Find the floor of the matrix."
      ]
    },
    {
      "cell_type": "code",
      "metadata": {
        "id": "kt_CO_v9qpU-",
        "colab": {
          "base_uri": "https://localhost:8080/"
        },
        "outputId": "0c680f18-8d86-4d9a-e670-b5eedf763fbe"
      },
      "source": [
        "from numpy import random\n",
        "m=random.rand(3,3)\n",
        "print(m)\n",
        "c=np.ceil(m)\n",
        "print(\"ceil: \",c)\n",
        "f=np.floor(m)\n",
        "print(\"floor: \",f)"
      ],
      "execution_count": null,
      "outputs": [
        {
          "output_type": "stream",
          "text": [
            "[[0.85907393 0.59751088 0.57642886]\n",
            " [0.95008219 0.93690187 0.40526783]\n",
            " [0.38756775 0.70553803 0.83034206]]\n",
            "ceil:  [[1. 1. 1.]\n",
            " [1. 1. 1.]\n",
            " [1. 1. 1.]]\n",
            "floor:  [[0. 0. 0.]\n",
            " [0. 0. 0.]\n",
            " [0. 0. 0.]]\n"
          ],
          "name": "stdout"
        }
      ]
    },
    {
      "cell_type": "markdown",
      "metadata": {
        "id": "oln9t19WqzBb"
      },
      "source": [
        "3. Create a random 1x4 array and print the random array and its shape.\n",
        "    \n",
        "      (use the shape function for finding the shape & use the same random we created here for both the below operations.)\n",
        "\n",
        "  a) Squeeze the random array and print the squeezed array and its shape.\n",
        "  b) Expand the random array by one axis and print the expanded array and its shape."
      ]
    },
    {
      "cell_type": "code",
      "metadata": {
        "id": "cbGGwRo3vpVX",
        "colab": {
          "base_uri": "https://localhost:8080/"
        },
        "outputId": "b95b3fea-0abb-44bd-a7c9-bdc47c9a1278"
      },
      "source": [
        "from numpy import random\n",
        "m=random.randint(10,size=(1,4))\n",
        "print(\"random: \",m,\"shape: \" ,np.shape(m))\n",
        "s=np.squeeze(m)\n",
        "print(\"squeeze: \",s,\"shape: \",np.shape(s))\n",
        "e=np.expand_dims(m,axis=1)\n",
        "print(\"expand: \",e,\"shape: \",np.shape(e))"
      ],
      "execution_count": null,
      "outputs": [
        {
          "output_type": "stream",
          "text": [
            "random:  [[3 3 6 9]] shape:  (1, 4)\n",
            "squeeze:  [3 3 6 9] shape:  (4,)\n",
            "expand:  [[[3 3 6 9]]] shape:  (1, 1, 4)\n"
          ],
          "name": "stdout"
        }
      ]
    }
  ]
}