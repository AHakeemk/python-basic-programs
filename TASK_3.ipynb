{
  "nbformat": 4,
  "nbformat_minor": 0,
  "metadata": {
    "colab": {
      "name": "TASK 3.ipynb",
      "provenance": [],
      "include_colab_link": true
    },
    "kernelspec": {
      "name": "python3",
      "display_name": "Python 3"
    },
    "language_info": {
      "name": "python"
    }
  },
  "cells": [
    {
      "cell_type": "markdown",
      "metadata": {
        "id": "view-in-github",
        "colab_type": "text"
      },
      "source": [
        "<a href=\"https://colab.research.google.com/github/AHakeemk/python-basic-programs/blob/main/TASK_3.ipynb\" target=\"_parent\"><img src=\"https://colab.research.google.com/assets/colab-badge.svg\" alt=\"Open In Colab\"/></a>"
      ]
    },
    {
      "cell_type": "markdown",
      "metadata": {
        "id": "z20IIB0eUQMN"
      },
      "source": [
        "1 - Write a program which takes a number as input from the user and check whether the number is odd or even.If odd print the number is odd if not print it is even."
      ]
    },
    {
      "cell_type": "code",
      "metadata": {
        "id": "dVgGJ-wTVRit",
        "colab": {
          "base_uri": "https://localhost:8080/"
        },
        "outputId": "3d448b2d-7b91-4622-bed0-1647b91ce842"
      },
      "source": [
        "n=int(input(\"Enter number: \"))\n",
        "if n%2!=0:\n",
        "    print(\"The number is odd\")"
        "else:\n",
             print (\"The number is even\")"
      ],
      "execution_count": 4,
      "outputs": [
        {
          "output_type": "stream",
          "text": [
            "Enter number: 5\n",
            "The number is odd\n"
          ],
          "name": "stdout"
        }
      ]
    },
    {
      "cell_type": "markdown",
      "metadata": {
        "id": "7778XD8PVblj"
      },
      "source": [
        "2 -Write a program to find the largest among three numbers and print the largest number."
      ]
    },
    {
      "cell_type": "code",
      "metadata": {
        "id": "m0tUOkOFWR-d",
        "colab": {
          "base_uri": "https://localhost:8080/"
        },
        "outputId": "694acc8d-de96-4c27-c2ab-ad9ed4463977"
      },
      "source": [
        "a=int(input(\"Enter 1st number: \"))\n",
        "b=int(input(\"Enter 2nd number: \"))\n",
        "c=int(input(\"Enter 3rd number: \"))\n",
        "if a>b and a>c: \n",
        "    print(a, \"is largest\")\n",
        "elif b>a and b>c:    \n",
        "    print(b, \"is largest\")\n",
        "else:    \n",
        "    print(c,\"is largest\")"
      ],
      "execution_count": 9,
      "outputs": [
        {
          "output_type": "stream",
          "text": [
            "Enter 1st number: 1\n",
            "Enter 2nd number: 2\n",
            "Enter 3rd number: 3\n",
            "3 is largest\n"
          ],
          "name": "stdout"
        }
      ]
    },
    {
      "cell_type": "markdown",
      "metadata": {
        "id": "Jg2Ns4OQWaJy"
      },
      "source": [
        "3 -Write a function to prompt for a score between 0.0 and 1.0.\n",
        "\n",
        "    If the score is out of range, print an error.\n",
        "    If the score is between 0.0 and 1.0, print a grade using the following table:\n",
        "    Score Grade\n",
        "             Score\tGrade\n",
        "            >= 0.9\tA\n",
        "            >= 0.8\tB\n",
        "            >= 0.7\tC\n",
        "            >= 0.6\tD\n",
        "             < 0.6\tF\n",
        "If the user enters a value out of range, print a suitable error message and exit. For the test, enter a score of 0.85."
      ]
    },
    {
      "cell_type": "code",
      "metadata": {
        "id": "6DLbGe6XXZPx",
        "colab": {
          "base_uri": "https://localhost:8080/"
        },
        "outputId": "3e553796-507b-46a4-c262-ffbf21db00bb"
      },
      "source": [
        " \n",
        "n=float(input(\"Enter your score: \"))\n",
        " \n",
        "if n>1.0 or n<0.0:\n",
        " \n",
        "    print (\"error\")\n",
        " \n",
        "elif n>=0.9:\n",
        " \n",
        "    print(\"your Grade is A\")\n",
        " \n",
        "elif n>=0.8:\n",
        " \n",
        "   print(\"your Grade is B\")\n",
        " \n",
        "elif n>=0.7:\n",
        " \n",
        "    print(\"your Grade is C\")\n",
        " \n",
        "elif n>=0.6:\n",
        " \n",
        "    print(\"your Grade is D\")\n",
        " \n",
        "elif n<0.6:\n",
        " \n",
        "    print(\"your Grade is F\")\n",
        " \n",
        "else:\n",
        " \n",
        "    print(\"error\")"
      ],
      "execution_count": 14,
      "outputs": [
        {
          "output_type": "stream",
          "text": [
            "Enter your score: 0.85\n",
            "your Grade is B\n"
          ],
          "name": "stdout"
        }
      ]
    },
    {
      "cell_type": "markdown",
      "metadata": {
        "id": "-o0scDq7WkVT"
      },
      "source": [
        ""
      ]
    }
  ]
}
